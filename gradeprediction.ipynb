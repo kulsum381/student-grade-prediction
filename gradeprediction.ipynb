{
  "nbformat": 4,
  "nbformat_minor": 0,
  "metadata": {
    "colab": {
      "provenance": [],
      "authorship_tag": "ABX9TyNEcbLqNtEZlIaKvNACJSyU",
      "include_colab_link": true
    },
    "kernelspec": {
      "name": "python3",
      "display_name": "Python 3"
    },
    "language_info": {
      "name": "python"
    }
  },
  "cells": [
    {
      "cell_type": "markdown",
      "metadata": {
        "id": "view-in-github",
        "colab_type": "text"
      },
      "source": [
        "<a href=\"https://colab.research.google.com/github/kulsum381/student-grade-prediction/blob/main/gradeprediction.ipynb\" target=\"_parent\"><img src=\"https://colab.research.google.com/assets/colab-badge.svg\" alt=\"Open In Colab\"/></a>"
      ]
    },
    {
      "cell_type": "markdown",
      "source": [],
      "metadata": {
        "id": "rx9m3_josNAJ"
      }
    },
    {
      "cell_type": "markdown",
      "source": [
        "IMPORTING LIBRARIES AND CREATING A DATASET"
      ],
      "metadata": {
        "id": "yvfihbXNtmwL"
      }
    },
    {
      "cell_type": "code",
      "source": [
        "import pandas as pd\n",
        "import matplotlib.pyplot as plt\n",
        "from sklearn.model_selection import train_test_split\n",
        "from sklearn.linear_model import LogisticRegression\n",
        "from sklearn.metrics import accuracy_score, confusion_matrix, classification_report\n",
        "\n",
        "# Create sample dataset\n",
        "data = {\n",
        "    'StudyHours': [1, 2, 3, 4, 5, 1.5, 2.5, 3.5, 4.5, 6, 7, 8, 2, 9, 10, 0.5, 3, 7.5],\n",
        "    'Attendance': [60, 65, 70, 75, 80, 50, 66, 72, 85, 90, 95, 98, 60, 99, 100, 45, 78, 96],\n",
        "    'Result':     [0, 0, 0, 1, 1, 0, 0, 1, 1, 1, 1, 1, 0, 1, 1, 0, 1, 1]\n",
        "}\n",
        "\n",
        "df = pd.DataFrame(data)\n",
        "print(df.head())\n"
      ],
      "metadata": {
        "colab": {
          "base_uri": "https://localhost:8080/"
        },
        "id": "GCk1ONrjttC3",
        "outputId": "e30d2266-ce17-4387-c962-046023fb38b1"
      },
      "execution_count": 2,
      "outputs": [
        {
          "output_type": "stream",
          "name": "stdout",
          "text": [
            "   StudyHours  Attendance  Result\n",
            "0         1.0          60       0\n",
            "1         2.0          65       0\n",
            "2         3.0          70       0\n",
            "3         4.0          75       1\n",
            "4         5.0          80       1\n"
          ]
        }
      ]
    },
    {
      "cell_type": "markdown",
      "source": [],
      "metadata": {
        "id": "5_YdwwLc0JkL"
      }
    },
    {
      "cell_type": "markdown",
      "source": [
        "CREATING A SCATTER PLOT TO VISUALIZE DATA"
      ],
      "metadata": {
        "id": "n_w0YlLSwLl8"
      }
    },
    {
      "cell_type": "code",
      "source": [
        "plt.scatter(df['StudyHours'], df['Attendance'], c=df['Result'], cmap='bwr')\n",
        "plt.xlabel('Study Hours')\n",
        "plt.ylabel('Attendance')\n",
        "plt.title('Student Performance')\n",
        "plt.show()\n"
      ],
      "metadata": {
        "colab": {
          "base_uri": "https://localhost:8080/",
          "height": 472
        },
        "id": "GUbQAHxwwPRI",
        "outputId": "d6972d82-49b0-4dd0-eed6-c0d4a91577a3"
      },
      "execution_count": 3,
      "outputs": [
        {
          "output_type": "display_data",
          "data": {
            "text/plain": [
              "<Figure size 640x480 with 1 Axes>"
            ],
            "image/png": "[encoded data removed]"
          },
          "metadata": {}
        }
      ]
    },
    {
      "cell_type": "markdown",
      "source": [],
      "metadata": {
        "id": "I4s-0-O3wemt"
      }
    },
    {
      "cell_type": "markdown",
      "source": [
        "BUILD AND TRAIN MODEL"
      ],
      "metadata": {
        "id": "s8ZuY61Z0PRT"
      }
    },
    {
      "cell_type": "code",
      "source": [
        "X = df[['StudyHours', 'Attendance']]\n",
        "y = df['Result']\n",
        "\n",
        "X_train, X_test, y_train, y_test = train_test_split(X, y, test_size=0.2, random_state=42)\n",
        "\n",
        "model = LogisticRegression()\n",
        "model.fit(X_train, y_train)\n",
        "\n",
        "y_pred = model.predict(X_test)\n",
        "\n",
        "print(\"Accuracy:\", accuracy_score(y_test, y_pred))\n",
        "\n"
      ],
      "metadata": {
        "colab": {
          "base_uri": "https://localhost:8080/"
        },
        "id": "DZi_kL0I0SZZ",
        "outputId": "3689e9c8-8275-4b69-f557-fc0d3eb5245b"
      },
      "execution_count": 4,
      "outputs": [
        {
          "output_type": "stream",
          "name": "stdout",
          "text": [
            "Accuracy: 1.0\n"
          ]
        }
      ]
    },
    {
      "cell_type": "markdown",
      "source": [
        "PREDICTION OF NEW STUDENT"
      ],
      "metadata": {
        "id": "LmHwtM570boP"
      }
    },
    {
      "cell_type": "code",
      "source": [
        "new_data = pd.DataFrame({'StudyHours': [4], 'Attendance': [80]})\n",
        "prediction = model.predict(new_data)\n",
        "print(\"Prediction (1=Pass, 0=Fail):\", prediction[0])\n"
      ],
      "metadata": {
        "colab": {
          "base_uri": "https://localhost:8080/"
        },
        "id": "n8fhgLoF0nUk",
        "outputId": "b6076a0d-128d-4fb9-e9c9-010600e44fa2"
      },
      "execution_count": 5,
      "outputs": [
        {
          "output_type": "stream",
          "name": "stdout",
          "text": [
            "Prediction (1=Pass, 0=Fail): 1\n"
          ]
        }
      ]
    }
  ]
}